{
  "nbformat": 4,
  "nbformat_minor": 0,
  "metadata": {
    "colab": {
      "provenance": []
    },
    "kernelspec": {
      "name": "python3",
      "display_name": "Python 3"
    },
    "language_info": {
      "name": "python"
    }
  },
  "cells": [
    {
      "cell_type": "markdown",
      "source": [
        "#operadores logicos racionais"
      ],
      "metadata": {
        "id": "8ezuXHTB_bwx"
      }
    },
    {
      "cell_type": "code",
      "source": [
        "idadeinc = int(input(\"qual sua idade?\"))\n",
        "resp = int(input(\"tem responsavel? \\nCaso sim digite 1, caso nao digite 2.\"))\n",
        "\n",
        "verify1 = resp == 1\n",
        "verify2 = resp == 2\n",
        "\n",
        "autth = (idadeinc >=14 or verify1)\n",
        "autth2 = (idadeinc <=14 or verify2)\n",
        "\n",
        "print(f\"Pode entrar? {autth}\")"
      ],
      "metadata": {
        "id": "IryQ8_lI_f9f"
      },
      "execution_count": null,
      "outputs": []
    },
    {
      "cell_type": "code",
      "source": [
        "pontos = int(input(\"quantos pontos voce tem?\"))\n",
        "assinante = int(input(\"qual tipo de assinante é? \\nSe for premium digite 1, se for basico digite 2\"))\n",
        "\n",
        "assinanteverify1 = assinante == 1\n",
        "assinanteverify2 = assinante == 2\n",
        "\n",
        "verify1 = (pontos > 1000 or assinanteverify1)\n",
        "verify2 = (pontos <= 1000 or assinanteverify2)\n",
        "\n",
        "print(f\"Recebe a promoçao? {verify1}\")"
      ],
      "metadata": {
        "id": "YxOgghHn_ju_"
      },
      "execution_count": null,
      "outputs": []
    },
    {
      "cell_type": "code",
      "source": [
        "numero = float(input(\"digite um numero entre 10 e 20 para verificaçao. \"))\n",
        "\n",
        "verify = numero >= 10 and numero <=20\n",
        "\n",
        "print(f\"numero esta entre 10 e 20? {verify}\")"
      ],
      "metadata": {
        "id": "HD0mi3e5_m35"
      },
      "execution_count": null,
      "outputs": []
    },
    {
      "cell_type": "code",
      "source": [
        "idade = float(input(\"qual sua idade? \"))\n",
        "dinheiro = float(input(\"quantos reias voce tem? \"))\n",
        "\n",
        "verify = (idade >= 18 and dinheiro >= 2000)\n",
        "\n",
        "print(f\"Posso fazer a viajem? {verify}\")"
      ],
      "metadata": {
        "id": "5SwPmIFx_pYP"
      },
      "execution_count": null,
      "outputs": []
    },
    {
      "cell_type": "code",
      "source": [
        "idade = float(input(\"qual sua idade? \"))\n",
        "dinheiro = float(input(\"quantos reias voce tem? \"))\n",
        "company = input(\"Vai viajar com os pais?\")\n",
        "\n",
        "verify = (idade >= 18 and dinheiro >= 2000 or company == \"sim\")\n",
        "\n",
        "print(f\"Posso fazer a viajem? {verify}\")"
      ],
      "metadata": {
        "id": "Dpe3bTwn_tCw"
      },
      "execution_count": null,
      "outputs": []
    },
    {
      "cell_type": "code",
      "source": [
        "nota1 = float(input(\"digite a primeira nota \"))\n",
        "nota2 = float(input(\"digite a segunda nota \"))\n",
        "nota3 = float(input(\"digite a terceira nota \"))\n",
        "\n",
        "letivos = int(input(\"digite quantos dias levitos tem no ano \"))\n",
        "faltas = int(input(\"digite quantas faltas teve no ano \"))\n",
        "\n",
        "\n",
        "media = (nota1 + nota2 + nota3)/3\n",
        "presenca = (faltas/letivos) * 100\n",
        "presencatotal = 100 - presenca\n",
        "\n",
        "verify1 = media >= 6 and presencatotal >= 75\n",
        "\n",
        "print(f\"Passei de ano? {verify1}\")"
      ],
      "metadata": {
        "id": "TgG33YvW_vJP"
      },
      "execution_count": null,
      "outputs": []
    },
    {
      "cell_type": "markdown",
      "source": [
        "#Condicionais"
      ],
      "metadata": {
        "id": "rIGsSqcR7qBF"
      }
    },
    {
      "cell_type": "markdown",
      "source": [
        "##Condicionais simples"
      ],
      "metadata": {
        "id": "T41aeJdZ7t-k"
      }
    },
    {
      "cell_type": "code",
      "source": [
        "idade = int(input(\"Digite sua idade: \"))\n",
        "\n",
        "if idade>=18:\n",
        "  print(\"Você é maior de idade.\")\n",
        "else:\n",
        "  print(\"Você é menor de idade.\")\n"
      ],
      "metadata": {
        "colab": {
          "base_uri": "https://localhost:8080/"
        },
        "id": "lJir0QC27zhV",
        "outputId": "ff3179ec-3ae5-46ea-cae4-a79c38179490"
      },
      "execution_count": null,
      "outputs": [
        {
          "output_type": "stream",
          "name": "stdout",
          "text": [
            "Digite sua idade: 19\n",
            "Você é maior de idade.\n"
          ]
        }
      ]
    },
    {
      "cell_type": "markdown",
      "source": [
        "# Calcule média e percentual de faltas"
      ],
      "metadata": {
        "id": "devl_UJP-Y9M"
      }
    },
    {
      "cell_type": "code",
      "source": [
        "nota1 = float(input(\"digite a primeira nota \"))\n",
        "nota2 = float(input(\"digite a segunda nota \"))\n",
        "nota3 = float(input(\"digite a terceira nota \"))\n",
        "\n",
        "letivos = int(input(\"digite quantos dias levitos tem no ano \"))\n",
        "faltas = int(input(\"digite quantas faltas teve no ano \"))\n",
        "\n",
        "\n",
        "media = (nota1 + nota2 + nota3)/3\n",
        "presenca = (faltas/letivos) * 100\n",
        "presencatotal = 100 - presenca\n",
        "\n",
        "if (media>=6 and presencatotal>=75):\n",
        "  print(f\"Você esta Aprovado, com nota média de {media:.2} e percentual de falta de {presencatotal}%\")\n",
        "else:\n",
        "  print(f\"Você esta Reprovado, com nota média de {media:.2} e percentual de falta de {presencatotal}%\")"
      ],
      "metadata": {
        "colab": {
          "base_uri": "https://localhost:8080/"
        },
        "id": "nv8GZn9N-gLl",
        "outputId": "85e53e71-4c06-431b-c27b-bffce0d0ec10"
      },
      "execution_count": null,
      "outputs": [
        {
          "output_type": "stream",
          "name": "stdout",
          "text": [
            "digite a primeira nota 6\n",
            "digite a segunda nota 5\n",
            "digite a terceira nota 6\n",
            "digite quantos dias levitos tem no ano 200\n",
            "digite quantas faltas teve no ano 30\n",
            "Você esta Reprovado, com nota média de 5.7 e percentual de falta de 85.0%\n"
          ]
        }
      ]
    },
    {
      "cell_type": "markdown",
      "source": [
        "# condicional composto"
      ],
      "metadata": {
        "id": "_K03XWJDB6tR"
      }
    },
    {
      "cell_type": "markdown",
      "source": [
        "## converter notas em mençoes"
      ],
      "metadata": {
        "id": "jfUkv7L4B_Tg"
      }
    },
    {
      "cell_type": "code",
      "source": [
        "nota = float(input(\"digite sua nota: \"))\n",
        "\n",
        "if (nota>=8.5 and nota<10):\n",
        "  print(\"Sua menção é MB\")\n",
        "elif (nota>=6.6 and nota<8.5):\n",
        "  print(\"Sua menção é B\")\n",
        "elif (nota>=5 and nota<6.6):\n",
        "  print(\"Sua menção é R\")\n",
        "elif (nota<5 and nota>0):\n",
        "  print(\"Sua menção é I\")\n",
        "else:\n",
        "  print(\"nota invalida\")\n"
      ],
      "metadata": {
        "colab": {
          "base_uri": "https://localhost:8080/"
        },
        "id": "Opp5a8dGCB35",
        "outputId": "b0d6c0db-ab3b-4b51-86c1-0068c04ac5c4"
      },
      "execution_count": null,
      "outputs": [
        {
          "output_type": "stream",
          "name": "stdout",
          "text": [
            "digite sua nota: -25\n",
            "nota invalida\n"
          ]
        }
      ]
    }
  ]
}